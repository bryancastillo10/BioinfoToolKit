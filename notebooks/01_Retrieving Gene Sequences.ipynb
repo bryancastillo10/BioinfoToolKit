{
 "cells": [
  {
   "cell_type": "markdown",
   "metadata": {},
   "source": [
    "Sequence Retrieval"
   ]
  },
  {
   "cell_type": "code",
   "execution_count": 1,
   "metadata": {},
   "outputs": [],
   "source": [
    "from Bio import SeqIO\n",
    "from Bio import Entrez"
   ]
  },
  {
   "cell_type": "markdown",
   "metadata": {},
   "source": [
    "#### Method 1： From a text (string)\n",
    "Create a random string of DNA"
   ]
  },
  {
   "cell_type": "code",
   "execution_count": 2,
   "metadata": {},
   "outputs": [
    {
     "data": {
      "text/plain": [
       "'GTCCTAGTGCCCGATGGAGCCTGCATAAAATGTGAACAGCCGCCGATGAG'"
      ]
     },
     "execution_count": 2,
     "metadata": {},
     "output_type": "execute_result"
    }
   ],
   "source": [
    "import random\n",
    "#Define a list of the nucleotide bases\n",
    "Nucleotide = [\"G\", \"T\", \"A\", \"C\"]\n",
    "\n",
    "# Use random.choice method from random module to generate concatenated string\n",
    "# With the given length of 50, you can change it depending on how long the sequence you want to be\n",
    "randDNAstr = \"\".join([random.choice(Nucleotide) for nuc in range(50)])\n",
    "\n",
    "DNAString = randDNAstr\n",
    "DNAString"
   ]
  },
  {
   "cell_type": "markdown",
   "metadata": {},
   "source": [
    "#### Method 2 Parsing a URL"
   ]
  },
  {
   "cell_type": "code",
   "execution_count": 7,
   "metadata": {},
   "outputs": [],
   "source": [
    "from Bio import Entrez, SeqIO\n",
    "from urllib.parse import urlparse\n",
    "\n",
    "def extract_accession_number(url):\n",
    "    parsed_url = urlparse(url)\n",
    "    segments = parsed_url.path.split(\"/\")\n",
    "    accession_number = segments[-1]\n",
    "    return accession_number\n",
    "\n",
    "def get_fasta_from_ncbi(url):\n",
    "    accession_number = extract_accession_number(url)\n",
    "\n",
    "    if not accession_number:\n",
    "        print(\"Invalid URL. Please provide a valid NCBI nucleotide sequence URL.\")\n",
    "        return\n",
    "\n",
    "    # Fetch the sequence from NCBI\n",
    "    handle = Entrez.efetch(db=\"nucleotide\", id=accession_number, rettype=\"gb\", retmode=\"text\")\n",
    "    record = SeqIO.read(handle, \"genbank\")\n",
    "    handle.close()\n",
    "\n",
    "    with open(sequences,\"w\") as f:\n",
    "        fasta_format = f\">{record.id} {record.description}\\n{record.seq}\"\n",
    "        f.write(fasta_format)\n"
   ]
  },
  {
   "cell_type": "code",
   "execution_count": 9,
   "metadata": {},
   "outputs": [],
   "source": [
    "# Example usage:\n",
    "ncbi_url = \"https://www.ncbi.nlm.nih.gov/nuccore/L08050.1\"\n",
    "sequences = \"output.fasta\"\n",
    "get_fasta_from_ncbi(ncbi_url)\n"
   ]
  },
  {
   "cell_type": "markdown",
   "metadata": {},
   "source": []
  },
  {
   "cell_type": "code",
   "execution_count": null,
   "metadata": {},
   "outputs": [],
   "source": []
  }
 ],
 "metadata": {
  "kernelspec": {
   "display_name": "Python 3",
   "language": "python",
   "name": "python3"
  },
  "language_info": {
   "codemirror_mode": {
    "name": "ipython",
    "version": 3
   },
   "file_extension": ".py",
   "mimetype": "text/x-python",
   "name": "python",
   "nbconvert_exporter": "python",
   "pygments_lexer": "ipython3",
   "version": "3.10.12"
  }
 },
 "nbformat": 4,
 "nbformat_minor": 2
}
