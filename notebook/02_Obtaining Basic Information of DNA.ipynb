{
 "cells": [
  {
   "cell_type": "markdown",
   "metadata": {},
   "source": [
    "<h3>Basic Information About The Gene</h3>\n",
    "\n",
    "It Includes the GC Content, Reverse Complement, Protein Translation,\n",
    "PCR Fragment length\n"
   ]
  },
  {
   "cell_type": "code",
   "execution_count": 1,
   "metadata": {},
   "outputs": [],
   "source": [
    "from Bio import SeqIO\n",
    "from Bio import Entrez\n",
    "Entrez.email = \"bryan@gmail.com\""
   ]
  },
  {
   "cell_type": "code",
   "execution_count": 23,
   "metadata": {},
   "outputs": [],
   "source": [
    "def read_FASTA(filePath):\n",
    "    with open(filePath, 'r') as fasta_f:\n",
    "        id, sequence = [], []\n",
    "        for seq_record in SeqIO.parse(fasta_f,'fasta'):\n",
    "            id.append(str(seq_record.id))\n",
    "            sequence.append(str(seq_record.seq))\n",
    "            FASTA_dict = {'ID':id,'Sequence':sequence}\n",
    "    return FASTA_dict\n",
    "    \n",
    "filePath = 'input/annamox.txt'"
   ]
  },
  {
   "cell_type": "code",
   "execution_count": 24,
   "metadata": {},
   "outputs": [
    {
     "data": {
      "text/plain": [
       "'CAGGGAAAGGCCTTATGGACTGATTATAGCGGGATGTCGAAGGAAGTGCAGGGTCCGGTCGATGCGTTATTATTTACGCAGTCACCGAGGACGACAAAGGGAGATCCGTATCAGAACTATCCGCACTATGTGCCAGAGGGCAGCCGGATTGTGCTGTACAATTTAAAGACGAAGGAATTGAAGGTATTGACGAATGATTTTGCAACCGCCTTTGATCCTTCAACGTATTGGGACGGGAAGAAATTTGCATTTGCCGGGGTGCACAAGAAGGGCGGCGGATGCCAGATATGGGAGATGAACGTAGACGGCAGCGGTTTGAGGCAGATGACGGATTACAAGGGCACCTGCCGTGCGCCGATCTATTATGCAGCAGGCAGTATCGAAGAAGGTCAGGGACGCATCATATGGCGTGACCGGTACTTTGAAGGAGACTGGAAGGAGAGGGGCACGGTAGAGAAGACCGGGTTCATCATCTTTGCAGGTTCTCCGGACGGCGTCATGGATGAGTTCCACAATCCGTATGCGTATAACCTGTTCCGGTTGGATACGCAGGGCGGGCATGTGACGGAGAGAATTACCGGTCACGTGTTGTCGGGTATAGAGTTCCCGAGCATCAATACGACGATAGACCAGATCACCTACAACATCAGTTCGAACTTTGATCCGACGACGACGCCGGATGGAAACATCCTGTTCTCCAGCACCCAGGCCAATGGCAGCAGGGCAGGGGGCAAGGGTCGGGTAATGCTGTGTGTAGACAACTGGGACGGTGCGTATCCGAGGCCGATCTATGGGAACTGCGAGGGTGAGGTTGGCGGTGCAAGTGGCAGGTCACAGGCCAAGATCACGTTCGGGGACAGGAGATTGGTGTATGTAGAGTCGCCGTATATGAACTGGGGAGTAGGTCAGTTGGCATCGGTAAGCTGGGATGCCCCGTATAACAAGACCTATGAGAGGTTGACGAAGGATGATGGTGGATTGTACCGGAGTCCGTATCCGCTTCCTGACGACAGGATGTTGGTGTCATATGCAGAGCGTGGAGATTTCGGCATCTATTGGTTTGATTTCAAGAATGGCAAGGCTGGGGAATTGGTGCACAATGATCCTGAGTGGAACGATCATCAGCCGGCCCCGCTATACGTTAAGTACCGTCCGAGGTGGATCAACACCTTTACGGCCGGAAAGAACTTTGGGGTAACGACGGTGACGTATCAGCCGTTTGATCAGGTGAAAGTGGAAGGGTATCCGCATTCATGGGCAACGTGGATTTGTTTTGACACGACGTTGACCGATATCCCGGTAGGTCCTTATCCGCATCAGAAGGCGAAGGATACAAAGCGGGGCGATGTGAAGGCGGTGAGGATAGTGGAAGGTACGCAGTGTGTTGAGCCGGATGCAAGCAGGTTCAAGGTTGGTGCGGGCAGTCACCTGTTGGGTGGATGTCGTTCAAGCAGCAACTCAGGCACAGCGTTCCAGCAGAGGCGGATCATCGGGTATCAGTATGTAGAGGATGATGGTTCAGTGGTAACGTCTCAGACGGCTGACACCCCGTACTATATCCAGAACCTGGATGAGAGGGGAATGGCGGTGCAGACGGCGTTGGTATGGGCGTATTTGAGGCCGTATCATGGCAGGATATGCAGTGGTTGTCATGACGGATCGTACCGTGGCAGGGCGTTCCAGAACCAGCATGCGAAGGCGTTGTACAACTGGTGGTATGATGACCGGAGCCATTATGATTCACCCTTTGCGTTTGGGTACCTGAAATTTGACAAGAGTGGAATCTATCAGGGAGTAAAGCACGGGGACGATGTGGTGGTGCCTTCGGATGTGTATTATGGAGGCCCGTCAGGAACGACATCTCAGCCGGTGGAAGGGTTAACGGATGATAAGAGGAGAACGGTGGATTTCCGCAGGGACATTCAGCCGATCATTGATGTGAAGTGTGCAGGTTGTCACAATGCGGGCAGTTCACCGGATTTGTCGGGTGGATCGGAGTTAGTGAGTGTGGATGGCGTGTCGGCATTCAGCCGTGCGTACACCAGCTTGCTTGAGCCGCAGAGGGGCAAGGACGCCAACCTTGGTGGTAAGTATGTCAATCCGTCGTCGGCCATCAACAGTTTGTTAATTTGGAGGCTGTATGAGACGGCGTTGAGTCAGTTTGCACCGAGGGAGAATGTATTCCCGATAGAGGGAAGAGTAATGCATGACAAGTTCCTCACGCAGGATGAGAGGTATTTGTTTGTTGAGTGGATTGATATAGGGGCACAGTGGGACAACATCCAGGGTCCTGATCTCTATCCGGGGTATCATTCAAGATAA'"
      ]
     },
     "execution_count": 24,
     "metadata": {},
     "output_type": "execute_result"
    }
   ],
   "source": [
    "#Obtaining only the sequence from the created dictionary\n",
    "fasta_example = read_FASTA(filePath)\n",
    "sequence_value = fasta_example.get('Sequence', [])[0]\n",
    "sequence_value"
   ]
  },
  {
   "cell_type": "markdown",
   "metadata": {},
   "source": [
    "In this tutorial, we will use as an example one DNA sequence to demonstrate several codes to obtain information about this template. We are going to use Candidatus Brocadia hzsA gene which is a known archaea that has this functional gene to convert ammonia directly into nitrates. This biological process is called Annamox.\n",
    "\n",
    "Count Nucleotide Frequency"
   ]
  },
  {
   "cell_type": "code",
   "execution_count": 22,
   "metadata": {},
   "outputs": [
    {
     "name": "stdout",
     "output_type": "stream",
     "text": [
      "{'C': 457, 'A': 569, 'G': 770, 'T': 526}\n"
     ]
    }
   ],
   "source": [
    "import collections\n",
    "\n",
    "def countNucFrequency(seq):\n",
    "    return dict(collections.Counter(seq))\n"
   ]
  },
  {
   "cell_type": "markdown",
   "metadata": {},
   "source": [
    "Example Usage"
   ]
  }
 ],
 "metadata": {
  "kernelspec": {
   "display_name": "bioinfoenv",
   "language": "python",
   "name": "python3"
  },
  "language_info": {
   "codemirror_mode": {
    "name": "ipython",
    "version": 3
   },
   "file_extension": ".py",
   "mimetype": "text/x-python",
   "name": "python",
   "nbconvert_exporter": "python",
   "pygments_lexer": "ipython3",
   "version": "3.10.12"
  }
 },
 "nbformat": 4,
 "nbformat_minor": 2
}
