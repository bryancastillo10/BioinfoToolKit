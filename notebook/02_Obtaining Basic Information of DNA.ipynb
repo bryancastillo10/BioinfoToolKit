{
 "cells": [
  {
   "cell_type": "markdown",
   "metadata": {},
   "source": [
    "<h3>Basic Information About The Gene</h3>\n",
    "\n",
    "It Includes the GC Content, Reverse Complement, Protein Translation,\n",
    "PCR Fragment length\n"
   ]
  },
  {
   "cell_type": "code",
   "execution_count": null,
   "metadata": {},
   "outputs": [],
   "source": [
    "from Bio import SeqIO\n",
    "from Bio import Entrez\n",
    "Entrez.email = \"bryan@gmail.com\""
   ]
  }
 ],
 "metadata": {
  "kernelspec": {
   "display_name": "bioinfoenv",
   "language": "python",
   "name": "python3"
  },
  "language_info": {
   "name": "python",
   "version": "3.10.12"
  }
 },
 "nbformat": 4,
 "nbformat_minor": 2
}
