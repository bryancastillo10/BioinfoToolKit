{
 "cells": [
  {
   "cell_type": "markdown",
   "metadata": {},
   "source": [
    "<h3> Obtaining DNA Sequences from Various Methods</h3>"
   ]
  },
  {
   "cell_type": "code",
   "execution_count": 1,
   "metadata": {},
   "outputs": [],
   "source": [
    "from Bio import SeqIO\n",
    "from Bio import Entrez\n",
    "Entrez.email = \"bryan@gmail.com\""
   ]
  },
  {
   "cell_type": "markdown",
   "metadata": {},
   "source": [
    "#### Method 1: Simple Text (String)\n",
    "\n",
    "Creating a nucleotide sequence from a randomly generated string representing the nucleotide bases"
   ]
  },
  {
   "cell_type": "code",
   "execution_count": 2,
   "metadata": {},
   "outputs": [
    {
     "data": {
      "text/plain": [
       "'TAACTGCTATTCCTCTAGTGGGCCACCCTCGGTGAATCTGGACCTTTTGC'"
      ]
     },
     "execution_count": 2,
     "metadata": {},
     "output_type": "execute_result"
    }
   ],
   "source": [
    "import random\n",
    "#Define a list of the nucleotide bases\n",
    "Nucleotide = [\"G\", \"T\", \"A\", \"C\"]\n",
    "\n",
    "# Use random.choice method from random module to generate concatenated string\n",
    "# With the given length of 50, you can change it depending on how long the sequence you want to be\n",
    "DNAString = \"\".join([random.choice(Nucleotide) for nuc in range(50)])\n",
    "\n",
    "DNAString"
   ]
  },
  {
   "cell_type": "markdown",
   "metadata": {},
   "source": [
    "#### Method 2 Parsing a URL"
   ]
  },
  {
   "cell_type": "code",
   "execution_count": 3,
   "metadata": {},
   "outputs": [],
   "source": [
    "#Define the functions\n",
    "from urllib.parse import urlparse\n",
    "\n",
    "def extract_accession_number(url):\n",
    "    parsed_url = urlparse(url)\n",
    "    segments = parsed_url.path.split(\"/\")\n",
    "    accession_number = segments[-1]\n",
    "    return accession_number\n",
    "\n",
    "def getnucleotide_from_ncbi(url):\n",
    "    accession_number = extract_accession_number(url)\n",
    "    if not accession_number:\n",
    "        print(\"Invalid URL. Please provide a valid NCBI nucleotide sequence URL.\")\n",
    "        return\n",
    "    handle = Entrez.efetch(db=\"nucleotide\", id=accession_number, rettype=\"gb\", retmode=\"text\")\n",
    "    record = SeqIO.read(handle, \"genbank\")\n",
    "    handle.close()\n",
    "    return record\n",
    "\n",
    "def save_fasta_to_file(record):\n",
    "    output_file = \"output_seq.fasta\"\n",
    "    with open(output_file, \"w\") as f:\n",
    "        fasta_format = f\">{record.id} {record.description}\\n{record.seq}\"\n",
    "        f.write(fasta_format)\n",
    "\n",
    "\n"
   ]
  },
  {
   "cell_type": "markdown",
   "metadata": {},
   "source": [
    "Example Usage\n",
    "\n",
    "Let's try with taking the amoA gene of Nitrosomonas europaea (a type of ammonia-oxidizing bacteria responsible for converting ammonia into nitrite in the nitrogen cycle). Commonly studied in biological wastewater treatment system."
   ]
  },
  {
   "cell_type": "code",
   "execution_count": 4,
   "metadata": {},
   "outputs": [
    {
     "name": "stdout",
     "output_type": "stream",
     "text": [
      "ID: L08050.1\n",
      "Name: NTOAMOAB\n",
      "Description: Nitrosomonas europaea ammonia monooxygenase acetylene-binding protein (amoA) gene, complete cds; ammonia monooxygenase (amoB) gene, complete cds\n",
      "Number of features: 6\n",
      "/molecule_type=DNA\n",
      "/topology=linear\n",
      "/data_file_division=BCT\n",
      "/date=11-MAY-1995\n",
      "/accessions=['L08050']\n",
      "/sequence_version=1\n",
      "/keywords=['acetylene-binding protein', 'ammonia monooxygenase', 'amoA gene', 'amoB gene']\n",
      "/source=Nitrosomonas europaea\n",
      "/organism=Nitrosomonas europaea\n",
      "/taxonomy=['Bacteria', 'Pseudomonadota', 'Betaproteobacteria', 'Nitrosomonadales', 'Nitrosomonadaceae', 'Nitrosomonas']\n",
      "/references=[Reference(title='Sequence of the gene coding for ammonia monooxygenase in Nitrosomonas europaea', ...), Reference(title='Sequence of the gene, amoB, for the 43-kDa polypeptide of ammonia monoxygenase of Nitrosomonas europaea', ...), Reference(title='Direct Submission', ...), Reference(title='Direct Submission', ...)]\n",
      "/comment=On May 11, 1995 this sequence version replaced gi:791182.\n",
      "Seq('GATCATTACCCGTTATTCCAATCTGACCGATGTGGTTTGGAACAACCAAAGCAA...GCG')\n"
     ]
    }
   ],
   "source": [
    "ncbi_url = \"https://www.ncbi.nlm.nih.gov/nuccore/L08050.1\"  \n",
    "\n",
    "record = getnucleotide_from_ncbi(ncbi_url)\n",
    "save_fasta_to_file(record)\n",
    "print(record)"
   ]
  },
  {
   "cell_type": "markdown",
   "metadata": {},
   "source": [
    "#### Method 3: Reading a Text File as CSV File Format containing the Acession ID and the Name of the Species"
   ]
  },
  {
   "cell_type": "code",
   "execution_count": 12,
   "metadata": {},
   "outputs": [
    {
     "name": "stdout",
     "output_type": "stream",
     "text": [
      "['AF313802.1', 'Methanosaeta concilii strain DSM 3671']\n",
      "['AF414043.1', 'Methanosarcina mazei strain DSM 2053']\n",
      "['AY970349.1', 'Methanosaeta harundinacea strain 6Ac ']\n",
      "['AY970348.1', 'Methanosaeta harundinacea strain 8Ac']\n",
      "['AY672820.1', 'Methanomethylovorans thermophila ']\n",
      "['AF414045.1', 'Methanocorpusculum parvum strain DSM 3823']\n",
      "['KC876049.1', 'Methanomethylovorans uponensis strain EK1']\n",
      "['GU385700.1', 'Methanobrevibacter smithii strain 4R_4_F02']\n",
      "['KF836868.1', 'Uncultured Methanoculleus sp. clone HB-107']\n",
      "['KF836855.1', 'Uncultured Methanoculleus sp. clone XJ6-100']\n",
      "Number of sequences in file: 10\n"
     ]
    }
   ],
   "source": [
    "import csv\n",
    "from Bio import SeqIO\n",
    "from Bio import Entrez\n",
    "\n",
    "fasta_file = {}\n",
    "ct = 0\n",
    "\n",
    "Entrez.email = \"bryan@gmail.com\"\n",
    "with open('input/methanogens.txt') as csv_file:\n",
    "    csv_reader = csv.reader(csv_file, delimiter=',')\n",
    "    for row in csv_reader:\n",
    "        print(row)\n",
    "        with Entrez.efetch(db=\"nucleotide\", rettype=\"gb\", retmode = \"text\", id = row[0]) as handle:\n",
    "            for seq_record in SeqIO.parse(handle, \"gb\"):\n",
    "                accession_number = seq_record.annotations['accessions'][0]\n",
    "                header = f\"> {accession_number} {row[1]}\"\n",
    "                fasta_file[header] = str(seq_record.seq)\n",
    "                ct += 1  \n",
    "      \n",
    "print(\"Number of sequences in file:\", ct)\n",
    "\n",
    "# save all sequences in the multi-fasta file \"sequences_general.fasta\"\n",
    "\n",
    "with open(\"sequences_general.fasta\",\"w+\") as f:\n",
    "    for header, sequence in fasta_file.items():\n",
    "        f.write(f\"{header}\\n{sequence}\\n\")"
   ]
  },
  {
   "cell_type": "markdown",
   "metadata": {},
   "source": [
    "#### Method 4: Reading a Fasta File Containing Multiple Sequences and Saving as a CSV File Format"
   ]
  },
  {
   "cell_type": "code",
   "execution_count": 51,
   "metadata": {},
   "outputs": [],
   "source": [
    "from Bio import SeqIO\n",
    "import pandas as pd\n",
    "\n",
    "with open(\"sequences_general.fasta\") as fasta_f:\n",
    "    id, description, sequence, lengths = [], [], [], []\n",
    "    for seq_record in SeqIO.parse(fasta_f,'fasta'):\n",
    "        id.append(str(seq_record.id))\n",
    "        description.append(str(seq_record.description))\n",
    "        sequence.append(str(seq_record.seq))\n",
    "        lengths.append(len(seq_record.seq))"
   ]
  },
  {
   "cell_type": "code",
   "execution_count": 53,
   "metadata": {},
   "outputs": [
    {
     "ename": "ValueError",
     "evalue": "All arrays must be of the same length",
     "output_type": "error",
     "traceback": [
      "\u001b[0;31m---------------------------------------------------------------------------\u001b[0m",
      "\u001b[0;31mValueError\u001b[0m                                Traceback (most recent call last)",
      "\u001b[1;32m/home/bryan1010/projects/BioinfoToolKit/notebook/01_Retrieving Gene Sequences.ipynb Cell 13\u001b[0m line \u001b[0;36m1\n\u001b[0;32m----> <a href='vscode-notebook-cell://wsl%2Bubuntu/home/bryan1010/projects/BioinfoToolKit/notebook/01_Retrieving%20Gene%20Sequences.ipynb#X21sdnNjb2RlLXJlbW90ZQ%3D%3D?line=0'>1</a>\u001b[0m df \u001b[39m=\u001b[39m pd\u001b[39m.\u001b[39;49mDataFrame({\n\u001b[1;32m      <a href='vscode-notebook-cell://wsl%2Bubuntu/home/bryan1010/projects/BioinfoToolKit/notebook/01_Retrieving%20Gene%20Sequences.ipynb#X21sdnNjb2RlLXJlbW90ZQ%3D%3D?line=1'>2</a>\u001b[0m     \u001b[39m'\u001b[39;49m\u001b[39mAccession ID\u001b[39;49m\u001b[39m'\u001b[39;49m: \u001b[39mid\u001b[39;49m,\n\u001b[1;32m      <a href='vscode-notebook-cell://wsl%2Bubuntu/home/bryan1010/projects/BioinfoToolKit/notebook/01_Retrieving%20Gene%20Sequences.ipynb#X21sdnNjb2RlLXJlbW90ZQ%3D%3D?line=2'>3</a>\u001b[0m     \u001b[39m'\u001b[39;49m\u001b[39mName\u001b[39;49m\u001b[39m'\u001b[39;49m: name,\n\u001b[1;32m      <a href='vscode-notebook-cell://wsl%2Bubuntu/home/bryan1010/projects/BioinfoToolKit/notebook/01_Retrieving%20Gene%20Sequences.ipynb#X21sdnNjb2RlLXJlbW90ZQ%3D%3D?line=3'>4</a>\u001b[0m     \u001b[39m'\u001b[39;49m\u001b[39mSequence\u001b[39;49m\u001b[39m'\u001b[39;49m: sequence,\n\u001b[1;32m      <a href='vscode-notebook-cell://wsl%2Bubuntu/home/bryan1010/projects/BioinfoToolKit/notebook/01_Retrieving%20Gene%20Sequences.ipynb#X21sdnNjb2RlLXJlbW90ZQ%3D%3D?line=4'>5</a>\u001b[0m     \u001b[39m'\u001b[39;49m\u001b[39mLength\u001b[39;49m\u001b[39m'\u001b[39;49m: lengths\n\u001b[1;32m      <a href='vscode-notebook-cell://wsl%2Bubuntu/home/bryan1010/projects/BioinfoToolKit/notebook/01_Retrieving%20Gene%20Sequences.ipynb#X21sdnNjb2RlLXJlbW90ZQ%3D%3D?line=5'>6</a>\u001b[0m })\n\u001b[1;32m      <a href='vscode-notebook-cell://wsl%2Bubuntu/home/bryan1010/projects/BioinfoToolKit/notebook/01_Retrieving%20Gene%20Sequences.ipynb#X21sdnNjb2RlLXJlbW90ZQ%3D%3D?line=7'>8</a>\u001b[0m df\u001b[39m.\u001b[39mhead(\u001b[39m10\u001b[39m)\n",
      "File \u001b[0;32m~/projects/BioinfoToolKit/bioinfoenv/lib/python3.10/site-packages/pandas/core/frame.py:733\u001b[0m, in \u001b[0;36mDataFrame.__init__\u001b[0;34m(self, data, index, columns, dtype, copy)\u001b[0m\n\u001b[1;32m    727\u001b[0m     mgr \u001b[39m=\u001b[39m \u001b[39mself\u001b[39m\u001b[39m.\u001b[39m_init_mgr(\n\u001b[1;32m    728\u001b[0m         data, axes\u001b[39m=\u001b[39m{\u001b[39m\"\u001b[39m\u001b[39mindex\u001b[39m\u001b[39m\"\u001b[39m: index, \u001b[39m\"\u001b[39m\u001b[39mcolumns\u001b[39m\u001b[39m\"\u001b[39m: columns}, dtype\u001b[39m=\u001b[39mdtype, copy\u001b[39m=\u001b[39mcopy\n\u001b[1;32m    729\u001b[0m     )\n\u001b[1;32m    731\u001b[0m \u001b[39melif\u001b[39;00m \u001b[39misinstance\u001b[39m(data, \u001b[39mdict\u001b[39m):\n\u001b[1;32m    732\u001b[0m     \u001b[39m# GH#38939 de facto copy defaults to False only in non-dict cases\u001b[39;00m\n\u001b[0;32m--> 733\u001b[0m     mgr \u001b[39m=\u001b[39m dict_to_mgr(data, index, columns, dtype\u001b[39m=\u001b[39;49mdtype, copy\u001b[39m=\u001b[39;49mcopy, typ\u001b[39m=\u001b[39;49mmanager)\n\u001b[1;32m    734\u001b[0m \u001b[39melif\u001b[39;00m \u001b[39misinstance\u001b[39m(data, ma\u001b[39m.\u001b[39mMaskedArray):\n\u001b[1;32m    735\u001b[0m     \u001b[39mfrom\u001b[39;00m \u001b[39mnumpy\u001b[39;00m\u001b[39m.\u001b[39;00m\u001b[39mma\u001b[39;00m \u001b[39mimport\u001b[39;00m mrecords\n",
      "File \u001b[0;32m~/projects/BioinfoToolKit/bioinfoenv/lib/python3.10/site-packages/pandas/core/internals/construction.py:503\u001b[0m, in \u001b[0;36mdict_to_mgr\u001b[0;34m(data, index, columns, dtype, typ, copy)\u001b[0m\n\u001b[1;32m    499\u001b[0m     \u001b[39melse\u001b[39;00m:\n\u001b[1;32m    500\u001b[0m         \u001b[39m# dtype check to exclude e.g. range objects, scalars\u001b[39;00m\n\u001b[1;32m    501\u001b[0m         arrays \u001b[39m=\u001b[39m [x\u001b[39m.\u001b[39mcopy() \u001b[39mif\u001b[39;00m \u001b[39mhasattr\u001b[39m(x, \u001b[39m\"\u001b[39m\u001b[39mdtype\u001b[39m\u001b[39m\"\u001b[39m) \u001b[39melse\u001b[39;00m x \u001b[39mfor\u001b[39;00m x \u001b[39min\u001b[39;00m arrays]\n\u001b[0;32m--> 503\u001b[0m \u001b[39mreturn\u001b[39;00m arrays_to_mgr(arrays, columns, index, dtype\u001b[39m=\u001b[39;49mdtype, typ\u001b[39m=\u001b[39;49mtyp, consolidate\u001b[39m=\u001b[39;49mcopy)\n",
      "File \u001b[0;32m~/projects/BioinfoToolKit/bioinfoenv/lib/python3.10/site-packages/pandas/core/internals/construction.py:114\u001b[0m, in \u001b[0;36marrays_to_mgr\u001b[0;34m(arrays, columns, index, dtype, verify_integrity, typ, consolidate)\u001b[0m\n\u001b[1;32m    111\u001b[0m \u001b[39mif\u001b[39;00m verify_integrity:\n\u001b[1;32m    112\u001b[0m     \u001b[39m# figure out the index, if necessary\u001b[39;00m\n\u001b[1;32m    113\u001b[0m     \u001b[39mif\u001b[39;00m index \u001b[39mis\u001b[39;00m \u001b[39mNone\u001b[39;00m:\n\u001b[0;32m--> 114\u001b[0m         index \u001b[39m=\u001b[39m _extract_index(arrays)\n\u001b[1;32m    115\u001b[0m     \u001b[39melse\u001b[39;00m:\n\u001b[1;32m    116\u001b[0m         index \u001b[39m=\u001b[39m ensure_index(index)\n",
      "File \u001b[0;32m~/projects/BioinfoToolKit/bioinfoenv/lib/python3.10/site-packages/pandas/core/internals/construction.py:677\u001b[0m, in \u001b[0;36m_extract_index\u001b[0;34m(data)\u001b[0m\n\u001b[1;32m    675\u001b[0m lengths \u001b[39m=\u001b[39m \u001b[39mlist\u001b[39m(\u001b[39mset\u001b[39m(raw_lengths))\n\u001b[1;32m    676\u001b[0m \u001b[39mif\u001b[39;00m \u001b[39mlen\u001b[39m(lengths) \u001b[39m>\u001b[39m \u001b[39m1\u001b[39m:\n\u001b[0;32m--> 677\u001b[0m     \u001b[39mraise\u001b[39;00m \u001b[39mValueError\u001b[39;00m(\u001b[39m\"\u001b[39m\u001b[39mAll arrays must be of the same length\u001b[39m\u001b[39m\"\u001b[39m)\n\u001b[1;32m    679\u001b[0m \u001b[39mif\u001b[39;00m have_dicts:\n\u001b[1;32m    680\u001b[0m     \u001b[39mraise\u001b[39;00m \u001b[39mValueError\u001b[39;00m(\n\u001b[1;32m    681\u001b[0m         \u001b[39m\"\u001b[39m\u001b[39mMixing dicts with non-Series may lead to ambiguous ordering.\u001b[39m\u001b[39m\"\u001b[39m\n\u001b[1;32m    682\u001b[0m     )\n",
      "\u001b[0;31mValueError\u001b[0m: All arrays must be of the same length"
     ]
    }
   ],
   "source": [
    "df = pd.DataFrame({\n",
    "    'Accession ID': id,\n",
    "    'Name': name,\n",
    "    'Sequence': sequence,\n",
    "    'Length': lengths\n",
    "})\n",
    "\n",
    "df.head(10)"
   ]
  },
  {
   "cell_type": "code",
   "execution_count": 9,
   "metadata": {},
   "outputs": [],
   "source": [
    "df.to_csv(\"methanogens_seq.csv\",index=False)"
   ]
  }
 ],
 "metadata": {
  "kernelspec": {
   "display_name": "bioinfoenv",
   "language": "python",
   "name": "python3"
  },
  "language_info": {
   "codemirror_mode": {
    "name": "ipython",
    "version": 3
   },
   "file_extension": ".py",
   "mimetype": "text/x-python",
   "name": "python",
   "nbconvert_exporter": "python",
   "pygments_lexer": "ipython3",
   "version": "3.10.12"
  }
 },
 "nbformat": 4,
 "nbformat_minor": 2
}
