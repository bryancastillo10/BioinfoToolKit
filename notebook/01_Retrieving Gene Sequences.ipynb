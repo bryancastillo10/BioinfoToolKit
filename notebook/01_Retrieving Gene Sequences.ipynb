{
 "cells": [
  {
   "cell_type": "markdown",
   "metadata": {},
   "source": [
    "<h3> Obtaining DNA Sequences from Various Methods</h3>"
   ]
  },
  {
   "cell_type": "code",
   "execution_count": 1,
   "metadata": {},
   "outputs": [],
   "source": [
    "from Bio import SeqIO\n",
    "from Bio import Entrez\n",
    "Entrez.email = \"bryan@gmail.com\""
   ]
  },
  {
   "cell_type": "markdown",
   "metadata": {},
   "source": [
    "#### Method 1: Simple Text (String)\n",
    "\n",
    "Creating a nucleotide sequence from a randomly generated string representing the nucleotide bases"
   ]
  },
  {
   "cell_type": "code",
   "execution_count": 2,
   "metadata": {},
   "outputs": [
    {
     "data": {
      "text/plain": [
       "'TATCATTGGCTGACTTGCTCCCACGGCGCTGACTGAAAACAGGTCGGGCG'"
      ]
     },
     "execution_count": 2,
     "metadata": {},
     "output_type": "execute_result"
    }
   ],
   "source": [
    "import random\n",
    "#Define a list of the nucleotide bases\n",
    "Nucleotide = [\"G\", \"T\", \"A\", \"C\"]\n",
    "\n",
    "# Use random.choice method from random module to generate concatenated string\n",
    "# With the given length of 50, you can change it depending on how long the sequence you want to be\n",
    "DNAString = \"\".join([random.choice(Nucleotide) for nuc in range(50)])\n",
    "\n",
    "DNAString"
   ]
  },
  {
   "cell_type": "markdown",
   "metadata": {},
   "source": [
    "#### Method 2 Parsing a URL"
   ]
  },
  {
   "cell_type": "code",
   "execution_count": 3,
   "metadata": {},
   "outputs": [],
   "source": [
    "#Define the functions\n",
    "from urllib.parse import urlparse\n",
    "\n",
    "def extract_accession_number(url):\n",
    "    segments = urlparse(url).path.split(\"/\")\n",
    "    accession_number = segments[-1]\n",
    "    return accession_number\n",
    "\n",
    "def getnuc_from_ncbi(url):\n",
    "    accession_number = extract_accession_number(url)\n",
    "    if not accession_number:\n",
    "        print(\"Invalid URL. Please provide a valid NCBI nucleotide sequence URL.\")\n",
    "        return\n",
    "    handle = Entrez.efetch(db=\"nucleotide\", id=accession_number, rettype=\"gb\", retmode=\"text\")\n",
    "    record = SeqIO.read(handle, \"genbank\")\n",
    "    handle.close()\n",
    "    return record\n",
    "\n",
    "def save_fasta(record):\n",
    "    with open(\"output/output_seq.fasta\", \"w\") as f:\n",
    "        fasta_format = f\">{record.id} {record.description}\\n{record.seq}\"\n",
    "        f.write(fasta_format)\n",
    "\n"
   ]
  },
  {
   "cell_type": "markdown",
   "metadata": {},
   "source": [
    "Example Usage\n",
    "\n",
    "Let's try with taking the amoA gene of Nitrosomonas europaea (a type of ammonia-oxidizing bacteria responsible for converting ammonia into nitrite in the nitrogen cycle). Commonly studied in biological wastewater treatment system."
   ]
  },
  {
   "cell_type": "code",
   "execution_count": 6,
   "metadata": {},
   "outputs": [
    {
     "name": "stdout",
     "output_type": "stream",
     "text": [
      "ID: L08050.1\n",
      "Name: NTOAMOAB\n",
      "Description: Nitrosomonas europaea ammonia monooxygenase acetylene-binding protein (amoA) gene, complete cds; ammonia monooxygenase (amoB) gene, complete cds\n",
      "Number of features: 6\n",
      "/molecule_type=DNA\n",
      "/topology=linear\n",
      "/data_file_division=BCT\n",
      "/date=11-MAY-1995\n",
      "/accessions=['L08050']\n",
      "/sequence_version=1\n",
      "/keywords=['acetylene-binding protein', 'ammonia monooxygenase', 'amoA gene', 'amoB gene']\n",
      "/source=Nitrosomonas europaea\n",
      "/organism=Nitrosomonas europaea\n",
      "/taxonomy=['Bacteria', 'Pseudomonadota', 'Betaproteobacteria', 'Nitrosomonadales', 'Nitrosomonadaceae', 'Nitrosomonas']\n",
      "/references=[Reference(title='Sequence of the gene coding for ammonia monooxygenase in Nitrosomonas europaea', ...), Reference(title='Sequence of the gene, amoB, for the 43-kDa polypeptide of ammonia monoxygenase of Nitrosomonas europaea', ...), Reference(title='Direct Submission', ...), Reference(title='Direct Submission', ...)]\n",
      "/comment=On May 11, 1995 this sequence version replaced gi:791182.\n",
      "Seq('GATCATTACCCGTTATTCCAATCTGACCGATGTGGTTTGGAACAACCAAAGCAA...GCG')\n"
     ]
    }
   ],
   "source": [
    "ncbi_url = \"https://www.ncbi.nlm.nih.gov/nuccore/L08050.1\"  \n",
    "\n",
    "record = getnuc_from_ncbi(ncbi_url)\n",
    "save_fasta(record)\n",
    "print(record)"
   ]
  },
  {
   "cell_type": "markdown",
   "metadata": {},
   "source": [
    "#### Method 3: Reading a Text File as CSV File Format containing the Acession ID and the Name of the Species"
   ]
  },
  {
   "cell_type": "code",
   "execution_count": 5,
   "metadata": {},
   "outputs": [
    {
     "name": "stdout",
     "output_type": "stream",
     "text": [
      "['AF313802.1', 'Methanosaeta concilii strain DSM 3671']\n",
      "['AF414043.1', 'Methanosarcina mazei strain DSM 2053']\n",
      "['AY970349.1', 'Methanosaeta harundinacea strain 6Ac ']\n",
      "['AY970348.1', 'Methanosaeta harundinacea strain 8Ac']\n",
      "['AY672820.1', 'Methanomethylovorans thermophila ']\n",
      "['AF414045.1', 'Methanocorpusculum parvum strain DSM 3823']\n",
      "['KC876049.1', 'Methanomethylovorans uponensis strain EK1']\n",
      "['GU385700.1', 'Methanobrevibacter smithii strain 4R_4_F02']\n",
      "['KF836868.1', 'Uncultured Methanoculleus sp. clone HB-107']\n",
      "['KF836855.1', 'Uncultured Methanoculleus sp. clone XJ6-100']\n",
      "Number of sequences in file: 10\n"
     ]
    }
   ],
   "source": [
    "import csv\n",
    "from Bio import SeqIO\n",
    "from Bio import Entrez\n",
    "\n",
    "fasta_file = {}\n",
    "ct = 0\n",
    "\n",
    "\n",
    "with open('input/methanogens.txt') as csv_file:\n",
    "    csv_reader = csv.reader(csv_file, delimiter=',')\n",
    "    for row in csv_reader:\n",
    "        print(row)\n",
    "        with Entrez.efetch(db=\"nucleotide\", rettype=\"gb\", retmode = \"text\", id = row[0]) as handle:\n",
    "            for seq_record in SeqIO.parse(handle, \"gb\"):\n",
    "                accession_number = seq_record.annotations['accessions'][0]\n",
    "                header = f\"> {accession_number} {row[1]}\"\n",
    "                fasta_file[header] = str(seq_record.seq)\n",
    "                ct += 1  \n",
    "      \n",
    "print(\"Number of sequences in file:\", ct)\n",
    "\n",
    "# save all sequences in the multi-fasta file \"sequences_general.fasta\"\n",
    "\n",
    "with open(\"output/sequences_general.fasta\",\"w+\") as f:\n",
    "    for header, sequence in fasta_file.items():\n",
    "        f.write(f\"{header}\\n{sequence}\\n\")"
   ]
  },
  {
   "cell_type": "markdown",
   "metadata": {},
   "source": [
    "#### Method 4: Reading a Fasta File Containing Multiple Sequences and Saving as a CSV File Format"
   ]
  },
  {
   "cell_type": "code",
   "execution_count": 6,
   "metadata": {},
   "outputs": [],
   "source": [
    "from Bio import SeqIO\n",
    "import pandas as pd\n",
    "\n",
    "with open(\"output/sequences_general.fasta\",'r') as fasta_f:\n",
    "    id, description, sequence, lengths = [], [], [], []\n",
    "    for seq_record in SeqIO.parse(fasta_f,'fasta'):\n",
    "        id.append(str(seq_record.id))\n",
    "        description.append(str(seq_record.description))\n",
    "        sequence.append(str(seq_record.seq))\n",
    "        lengths.append(len(seq_record.seq))"
   ]
  },
  {
   "cell_type": "code",
   "execution_count": 7,
   "metadata": {},
   "outputs": [
    {
     "data": {
      "text/html": [
       "<div>\n",
       "<style scoped>\n",
       "    .dataframe tbody tr th:only-of-type {\n",
       "        vertical-align: middle;\n",
       "    }\n",
       "\n",
       "    .dataframe tbody tr th {\n",
       "        vertical-align: top;\n",
       "    }\n",
       "\n",
       "    .dataframe thead th {\n",
       "        text-align: right;\n",
       "    }\n",
       "</style>\n",
       "<table border=\"1\" class=\"dataframe\">\n",
       "  <thead>\n",
       "    <tr style=\"text-align: right;\">\n",
       "      <th></th>\n",
       "      <th>Accession ID</th>\n",
       "      <th>Name</th>\n",
       "      <th>Sequence</th>\n",
       "      <th>Length</th>\n",
       "    </tr>\n",
       "  </thead>\n",
       "  <tbody>\n",
       "    <tr>\n",
       "      <th>0</th>\n",
       "      <td>AF313802</td>\n",
       "      <td>Methanosaeta concilii strain DSM 3671</td>\n",
       "      <td>GGGAAGCTACATGTCCGGCGGTGTCGGTTTCACCCAGTACGCTACT...</td>\n",
       "      <td>472</td>\n",
       "    </tr>\n",
       "    <tr>\n",
       "      <th>1</th>\n",
       "      <td>AF414043</td>\n",
       "      <td>Methanosarcina mazei strain DSM 2053</td>\n",
       "      <td>TACACAGACGACATCCTCGACAACAACACCTACTATGACGTTGACT...</td>\n",
       "      <td>435</td>\n",
       "    </tr>\n",
       "    <tr>\n",
       "      <th>2</th>\n",
       "      <td>AY970349</td>\n",
       "      <td>Methanosaeta harundinacea strain 6Ac</td>\n",
       "      <td>ACGTTCATGGCGTAGTTCGGATAGTTCGCGCCTCTCAGCTCGAGGG...</td>\n",
       "      <td>507</td>\n",
       "    </tr>\n",
       "    <tr>\n",
       "      <th>3</th>\n",
       "      <td>AY970348</td>\n",
       "      <td>Methanosaeta harundinacea strain 8Ac</td>\n",
       "      <td>ACGTTCATGGCGTAGTTCGGATAGTTCGCGCCTCTCAGCTCGAGGG...</td>\n",
       "      <td>507</td>\n",
       "    </tr>\n",
       "    <tr>\n",
       "      <th>4</th>\n",
       "      <td>AY672820</td>\n",
       "      <td>Methanomethylovorans thermophila</td>\n",
       "      <td>TAGGTCCACGCAGCTCAAGAGGCAGACCTTCGTCGGACTGGTAGGA...</td>\n",
       "      <td>739</td>\n",
       "    </tr>\n",
       "    <tr>\n",
       "      <th>5</th>\n",
       "      <td>AF414045</td>\n",
       "      <td>Methanocorpusculum parvum strain DSM 3823</td>\n",
       "      <td>TACACGGATAACATCCTTGATGACTTCACCTACTACGGAATGGACT...</td>\n",
       "      <td>438</td>\n",
       "    </tr>\n",
       "    <tr>\n",
       "      <th>6</th>\n",
       "      <td>KC876049</td>\n",
       "      <td>Methanomethylovorans uponensis strain EK1</td>\n",
       "      <td>AGCATGTGTGCCGGTGAAGCAGCAGTCGCTGACCTTTCATATGCAG...</td>\n",
       "      <td>706</td>\n",
       "    </tr>\n",
       "    <tr>\n",
       "      <th>7</th>\n",
       "      <td>GU385700</td>\n",
       "      <td>Methanobrevibacter smithii strain 4R_4_F02</td>\n",
       "      <td>ATCTTCAAATTTCTGATGGAGAATACGTTAGCTGCACCACATTGAT...</td>\n",
       "      <td>423</td>\n",
       "    </tr>\n",
       "    <tr>\n",
       "      <th>8</th>\n",
       "      <td>KF836868</td>\n",
       "      <td>Uncultured Methanoculleus sp. clone HB-107</td>\n",
       "      <td>GGCATACACCGACAACATCCTGGATGAGTTCACATACTACGGTATG...</td>\n",
       "      <td>436</td>\n",
       "    </tr>\n",
       "    <tr>\n",
       "      <th>9</th>\n",
       "      <td>KF836855</td>\n",
       "      <td>Uncultured Methanoculleus sp. clone XJ6-100</td>\n",
       "      <td>GGCCTACACCGACAACATCCTCGATGAGTTCACCTACTACGGTATG...</td>\n",
       "      <td>436</td>\n",
       "    </tr>\n",
       "  </tbody>\n",
       "</table>\n",
       "</div>"
      ],
      "text/plain": [
       "  Accession ID                                         Name  \\\n",
       "0     AF313802        Methanosaeta concilii strain DSM 3671   \n",
       "1     AF414043         Methanosarcina mazei strain DSM 2053   \n",
       "2     AY970349         Methanosaeta harundinacea strain 6Ac   \n",
       "3     AY970348         Methanosaeta harundinacea strain 8Ac   \n",
       "4     AY672820             Methanomethylovorans thermophila   \n",
       "5     AF414045    Methanocorpusculum parvum strain DSM 3823   \n",
       "6     KC876049    Methanomethylovorans uponensis strain EK1   \n",
       "7     GU385700   Methanobrevibacter smithii strain 4R_4_F02   \n",
       "8     KF836868   Uncultured Methanoculleus sp. clone HB-107   \n",
       "9     KF836855  Uncultured Methanoculleus sp. clone XJ6-100   \n",
       "\n",
       "                                            Sequence  Length  \n",
       "0  GGGAAGCTACATGTCCGGCGGTGTCGGTTTCACCCAGTACGCTACT...     472  \n",
       "1  TACACAGACGACATCCTCGACAACAACACCTACTATGACGTTGACT...     435  \n",
       "2  ACGTTCATGGCGTAGTTCGGATAGTTCGCGCCTCTCAGCTCGAGGG...     507  \n",
       "3  ACGTTCATGGCGTAGTTCGGATAGTTCGCGCCTCTCAGCTCGAGGG...     507  \n",
       "4  TAGGTCCACGCAGCTCAAGAGGCAGACCTTCGTCGGACTGGTAGGA...     739  \n",
       "5  TACACGGATAACATCCTTGATGACTTCACCTACTACGGAATGGACT...     438  \n",
       "6  AGCATGTGTGCCGGTGAAGCAGCAGTCGCTGACCTTTCATATGCAG...     706  \n",
       "7  ATCTTCAAATTTCTGATGGAGAATACGTTAGCTGCACCACATTGAT...     423  \n",
       "8  GGCATACACCGACAACATCCTGGATGAGTTCACATACTACGGTATG...     436  \n",
       "9  GGCCTACACCGACAACATCCTCGATGAGTTCACCTACTACGGTATG...     436  "
      ]
     },
     "execution_count": 7,
     "metadata": {},
     "output_type": "execute_result"
    }
   ],
   "source": [
    "df = pd.DataFrame({\n",
    "    'Accession ID': id,\n",
    "    'Name': description,\n",
    "    'Sequence': sequence,\n",
    "    'Length': lengths\n",
    "})\n",
    "df['Name'] = df['Name'].str.join('').str[10:]\n",
    "df.head(10)"
   ]
  },
  {
   "cell_type": "code",
   "execution_count": 8,
   "metadata": {},
   "outputs": [],
   "source": [
    "df.to_csv(\"output/methanogens_seq.csv\",index=False)"
   ]
  },
  {
   "cell_type": "code",
   "execution_count": 36,
   "metadata": {},
   "outputs": [
    {
     "name": "stdout",
     "output_type": "stream",
     "text": [
      "['M', 'T', 'P', 'I', 'S', 'H', 'E', 'R', 'G', 'A', 'Y', 'A', 'A', 'I', 'A', 'K', 'H', 'S', 'I', '*', 'S', 'M', 'D', 'A', 'Q', 'W', 'N', 'H', 'E', 'C', 'F', 'Y', 'P', 'R', 'A', 'E', 'F', 'D', 'Y', 'Q', 'E', 'E', 'G', 'L', 'L', '*', 'Q', 'F', 'W', 'Q', 'Y', 'M', 'L', 'T', 'Q', 'N', 'L', 'C', 'R', 'R', 'E', 'S', 'S']\n"
     ]
    }
   ],
   "source": [
    "protein =\"MTPISHERGAYAAIAKHSI*SMDAQWNHECFYPRAEFDYQEEGLL*QFWQYMLTQNLCRRESS\"\n",
    "conc_prot = list(protein)\n",
    "print(conc_prot)"
   ]
  },
  {
   "cell_type": "code",
   "execution_count": 37,
   "metadata": {},
   "outputs": [],
   "source": [
    "    def proteins_from_rf(aa_seq):\n",
    "        \"\"\"Returns a list of all possible proteins based on the amino acid sequence\"\"\"\n",
    "        current_prot = []\n",
    "        proteins = []\n",
    "        for aa in aa_seq:\n",
    "            if aa == \"*\":  # Stop Codon\n",
    "                for p in current_prot:\n",
    "                    proteins.append(p)\n",
    "                current_prot = []\n",
    "            else:\n",
    "                if aa == \"M\":  # Start Codon\n",
    "                    current_prot.append(\"\")\n",
    "                for i in range(len(current_prot)):\n",
    "                    current_prot[i] += aa\n",
    "        return proteins"
   ]
  },
  {
   "cell_type": "code",
   "execution_count": 43,
   "metadata": {},
   "outputs": [
    {
     "name": "stdout",
     "output_type": "stream",
     "text": [
      "MDAQWNHECFYPRAEFDYQEEGLL\n"
     ]
    }
   ],
   "source": [
    "for rf in proteins_from_rf(conc_prot):\n",
    "    results = []\n",
    "    results.append(rf)\n",
    "\n"
   ]
  }
 ],
 "metadata": {
  "kernelspec": {
   "display_name": "bioinfoenv",
   "language": "python",
   "name": "python3"
  },
  "language_info": {
   "codemirror_mode": {
    "name": "ipython",
    "version": 3
   },
   "file_extension": ".py",
   "mimetype": "text/x-python",
   "name": "python",
   "nbconvert_exporter": "python",
   "pygments_lexer": "ipython3",
   "version": "3.11.7"
  }
 },
 "nbformat": 4,
 "nbformat_minor": 2
}
