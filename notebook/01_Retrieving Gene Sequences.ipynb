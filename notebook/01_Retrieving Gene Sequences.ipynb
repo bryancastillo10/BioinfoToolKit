{
 "cells": [
  {
   "cell_type": "markdown",
   "metadata": {},
   "source": [
    "<h3> Obtaining DNA Sequences from Various Methods</h3>"
   ]
  },
  {
   "cell_type": "code",
   "execution_count": 1,
   "metadata": {},
   "outputs": [],
   "source": [
    "from Bio import SeqIO\n",
    "from Bio import Entrez\n",
    "Entrez.email = \"bryan@gmail.com\""
   ]
  },
  {
   "cell_type": "markdown",
   "metadata": {},
   "source": [
    "#### Method 1: Simple Text (String)\n",
    "\n",
    "Creating a nucleotide sequence from a randomly generated string representing the nucleotide bases"
   ]
  },
  {
   "cell_type": "code",
   "execution_count": 5,
   "metadata": {},
   "outputs": [
    {
     "data": {
      "text/plain": [
       "'GGGCATTCGATGCCATTCCCTGGGAGCGGACGTCAGGGTCCGCTGATTTA'"
      ]
     },
     "execution_count": 5,
     "metadata": {},
     "output_type": "execute_result"
    }
   ],
   "source": [
    "import random\n",
    "#Define a list of the nucleotide bases\n",
    "Nucleotide = [\"G\", \"T\", \"A\", \"C\"]\n",
    "\n",
    "# Use random.choice method from random module to generate concatenated string\n",
    "# With the given length of 50, you can change it depending on how long the sequence you want to be\n",
    "DNAString = \"\".join([random.choice(Nucleotide) for nuc in range(50)])\n",
    "\n",
    "DNAString"
   ]
  },
  {
   "cell_type": "markdown",
   "metadata": {},
   "source": [
    "#### Method 2 Parsing a URL"
   ]
  },
  {
   "cell_type": "code",
   "execution_count": 14,
   "metadata": {},
   "outputs": [],
   "source": [
    "#Define the functions\n",
    "from urllib.parse import urlparse\n",
    "\n",
    "def extract_accession_number(url):\n",
    "    parsed_url = urlparse(url)\n",
    "    segments = parsed_url.path.split(\"/\")\n",
    "    accession_number = segments[-1]\n",
    "    return accession_number\n",
    "\n",
    "def getnucleotide_from_ncbi(url):\n",
    "    accession_number = extract_accession_number(url)\n",
    "    if not accession_number:\n",
    "        print(\"Invalid URL. Please provide a valid NCBI nucleotide sequence URL.\")\n",
    "        return\n",
    "    handle = Entrez.efetch(db=\"nucleotide\", id=accession_number, rettype=\"gb\", retmode=\"text\")\n",
    "    record = SeqIO.read(handle, \"genbank\")\n",
    "    handle.close()\n",
    "    return record\n",
    "\n",
    "def save_fasta_to_file(record):\n",
    "    output_file = \"output_seq.fasta\"\n",
    "    with open(output_file, \"w\") as f:\n",
    "        fasta_format = f\">{record.id} {record.description}\\n{record.seq}\"\n",
    "        f.write(fasta_format)\n",
    "\n",
    "\n"
   ]
  },
  {
   "cell_type": "markdown",
   "metadata": {},
   "source": [
    "Example Usage\n",
    "\n",
    "Let's try with taking the amoA gene of Nitrosomonas europaea (a type of ammonia-oxidizing bacteria responsible for converting ammonia into nitrite in the nitrogen cycle). Commonly studied in biological wastewater treatment system."
   ]
  },
  {
   "cell_type": "code",
   "execution_count": 18,
   "metadata": {},
   "outputs": [
    {
     "name": "stdout",
     "output_type": "stream",
     "text": [
      "ID: L08050.1\n",
      "Name: NTOAMOAB\n",
      "Description: Nitrosomonas europaea ammonia monooxygenase acetylene-binding protein (amoA) gene, complete cds; ammonia monooxygenase (amoB) gene, complete cds\n",
      "Number of features: 6\n",
      "/molecule_type=DNA\n",
      "/topology=linear\n",
      "/data_file_division=BCT\n",
      "/date=11-MAY-1995\n",
      "/accessions=['L08050']\n",
      "/sequence_version=1\n",
      "/keywords=['acetylene-binding protein', 'ammonia monooxygenase', 'amoA gene', 'amoB gene']\n",
      "/source=Nitrosomonas europaea\n",
      "/organism=Nitrosomonas europaea\n",
      "/taxonomy=['Bacteria', 'Pseudomonadota', 'Betaproteobacteria', 'Nitrosomonadales', 'Nitrosomonadaceae', 'Nitrosomonas']\n",
      "/references=[Reference(title='Sequence of the gene coding for ammonia monooxygenase in Nitrosomonas europaea', ...), Reference(title='Sequence of the gene, amoB, for the 43-kDa polypeptide of ammonia monoxygenase of Nitrosomonas europaea', ...), Reference(title='Direct Submission', ...), Reference(title='Direct Submission', ...)]\n",
      "/comment=On May 11, 1995 this sequence version replaced gi:791182.\n",
      "Seq('GATCATTACCCGTTATTCCAATCTGACCGATGTGGTTTGGAACAACCAAAGCAA...GCG')\n"
     ]
    }
   ],
   "source": [
    "ncbi_url = \"https://www.ncbi.nlm.nih.gov/nuccore/L08050.1\"  \n",
    "\n",
    "record = getnucleotide_from_ncbi(ncbi_url)\n",
    "save_fasta_to_file(record)\n",
    "print(record)"
   ]
  },
  {
   "cell_type": "markdown",
   "metadata": {},
   "source": [
    "#### Method 3: Reading a FASTA Format File "
   ]
  },
  {
   "cell_type": "code",
   "execution_count": null,
   "metadata": {},
   "outputs": [],
   "source": [
    "from Bio import SeqIO\n",
    "import pandas as pd\n",
    "\n",
    "\n",
    "with open(\"methanogens.fasta\") as fasta_f:\n",
    "    id, description, sequence, lengths = [], [], [], []\n",
    "    for seq_record in SeqIO.parse(fasta_f,'fasta'):\n",
    "        id.append(str(seq_record.id))\n",
    "        description.append(str(seq_record.description))\n",
    "        sequence.append(str(seq_record.seq))\n",
    "        lengths.append(len(seq_record.seq))"
   ]
  },
  {
   "cell_type": "code",
   "execution_count": null,
   "metadata": {},
   "outputs": [],
   "source": [
    "df = pd.DataFrame({\n",
    "    'Accession ID': id,\n",
    "    'Name': description,\n",
    "    'Sequence': sequence,\n",
    "    'Length': lengths\n",
    "})\n",
    "\n",
    "df.head(10)"
   ]
  }
 ],
 "metadata": {
  "kernelspec": {
   "display_name": "bioinfoenv",
   "language": "python",
   "name": "python3"
  },
  "language_info": {
   "codemirror_mode": {
    "name": "ipython",
    "version": 3
   },
   "file_extension": ".py",
   "mimetype": "text/x-python",
   "name": "python",
   "nbconvert_exporter": "python",
   "pygments_lexer": "ipython3",
   "version": "3.10.12"
  }
 },
 "nbformat": 4,
 "nbformat_minor": 2
}
