{
 "cells": [
  {
   "cell_type": "markdown",
   "metadata": {},
   "source": [
    "Sequence Retrieval"
   ]
  },
  {
   "cell_type": "code",
   "execution_count": 1,
   "metadata": {},
   "outputs": [],
   "source": [
    "from Bio import SeqIO\n",
    "from Bio import Entrez\n",
    "Entrez.email = 'A.N.Other@example.com'"
   ]
  },
  {
   "cell_type": "markdown",
   "metadata": {},
   "source": [
    "#### Method 1： From a text (string)\n",
    "Create a random string of DNA"
   ]
  },
  {
   "cell_type": "code",
   "execution_count": 2,
   "metadata": {},
   "outputs": [
    {
     "data": {
      "text/plain": [
       "'TCGCTGGTGGGCGGTATCTTAGGTAACGCTGCCACTTACCTGTAATCCAA'"
      ]
     },
     "execution_count": 2,
     "metadata": {},
     "output_type": "execute_result"
    }
   ],
   "source": [
    "import random\n",
    "#Define a list of the nucleotide bases\n",
    "Nucleotide = [\"G\", \"T\", \"A\", \"C\"]\n",
    "\n",
    "# Use random.choice method from random module to generate concatenated string\n",
    "# With the given length of 50, you can change it depending on how long the sequence you want to be\n",
    "randDNAstr = \"\".join([random.choice(Nucleotide) for nuc in range(50)])\n",
    "\n",
    "DNAString = randDNAstr\n",
    "DNAString"
   ]
  },
  {
   "cell_type": "markdown",
   "metadata": {},
   "source": [
    "#### Method 2 Parsing a URL"
   ]
  },
  {
   "cell_type": "code",
   "execution_count": 3,
   "metadata": {},
   "outputs": [],
   "source": [
    "from Bio import SeqIO\n",
    "from urllib.parse import urlparse\n",
    "\n",
    "def extract_accession_number(url):\n",
    "    parsed_url = urlparse(url)\n",
    "    segments = parsed_url.path.split(\"/\")\n",
    "    accession_number = segments[-1]\n",
    "    return accession_number\n",
    "\n",
    "def getnucleotide_from_ncbi(url, output_file):\n",
    "    accession_number = extract_accession_number(url)\n",
    "    output_file = \"output_seq.fasta\"\n",
    "    if not accession_number:\n",
    "        print(\"Invalid URL. Please provide a valid NCBI nucleotide sequence URL.\")\n",
    "        return\n",
    "    handle = Entrez.efetch(db=\"nucleotide\", id=accession_number, rettype=\"gb\", retmode=\"text\")\n",
    "    record = SeqIO.read(handle, \"genbank\")\n",
    "    handle.close()\n",
    "    return record\n",
    "\n",
    "def save_fasta_to_file(record, output_file):\n",
    "    with open(output_file, \"w\") as f:\n",
    "        fasta_format = f\">{record.id} {record.description}\\n{record.seq}\"\n",
    "        f.write(fasta_format)\n",
    "\n",
    "\n"
   ]
  },
  {
   "cell_type": "markdown",
   "metadata": {},
   "source": [
    "Example Usage\n",
    "\n",
    "Let's try with the amoA gene of Nitrosomonas europaea which is a microorganism that is capable to convert ammonia into nitrite in the nitrogen cycle. This is just one of the many microorganisms which is commonly studied in the aquatic environment."
   ]
  },
  {
   "cell_type": "code",
   "execution_count": 53,
   "metadata": {},
   "outputs": [
    {
     "name": "stdout",
     "output_type": "stream",
     "text": [
      "ID: L08050.1\n",
      "Name: NTOAMOAB\n",
      "Description: Nitrosomonas europaea ammonia monooxygenase acetylene-binding protein (amoA) gene, complete cds; ammonia monooxygenase (amoB) gene, complete cds\n",
      "Number of features: 6\n",
      "/molecule_type=DNA\n",
      "/topology=linear\n",
      "/data_file_division=BCT\n",
      "/date=11-MAY-1995\n",
      "/accessions=['L08050']\n",
      "/sequence_version=1\n",
      "/keywords=['acetylene-binding protein', 'ammonia monooxygenase', 'amoA gene', 'amoB gene']\n",
      "/source=Nitrosomonas europaea\n",
      "/organism=Nitrosomonas europaea\n",
      "/taxonomy=['Bacteria', 'Pseudomonadota', 'Betaproteobacteria', 'Nitrosomonadales', 'Nitrosomonadaceae', 'Nitrosomonas']\n",
      "/references=[Reference(title='Sequence of the gene coding for ammonia monooxygenase in Nitrosomonas europaea', ...), Reference(title='Sequence of the gene, amoB, for the 43-kDa polypeptide of ammonia monoxygenase of Nitrosomonas europaea', ...), Reference(title='Direct Submission', ...), Reference(title='Direct Submission', ...)]\n",
      "/comment=On May 11, 1995 this sequence version replaced gi:791182.\n",
      "Seq('GATCATTACCCGTTATTCCAATCTGACCGATGTGGTTTGGAACAACCAAAGCAA...GCG')\n"
     ]
    }
   ],
   "source": [
    "ncbi_url = \"https://www.ncbi.nlm.nih.gov/nuccore/L08050.1\"  \n",
    "\n",
    "gb_record = getnucleotide_from_ncbi(ncbi_url, output_file)\n",
    "save_fasta_to_file(fasta_record, output_file)\n",
    "print(gb_record)"
   ]
  },
  {
   "cell_type": "markdown",
   "metadata": {},
   "source": [
    "#### Method 3: Reading a FASTA Format File"
   ]
  },
  {
   "cell_type": "code",
   "execution_count": 94,
   "metadata": {},
   "outputs": [],
   "source": [
    "from Bio import SeqIO\n",
    "import pandas as pd\n",
    "\n",
    "\n",
    "with open(\"Msarcina thermophila.fasta\") as fasta_f:\n",
    "    id, description, sequence, lengths = [], [], [], []\n",
    "    for seq_record in SeqIO.parse(fasta_f,'fasta'):\n",
    "        id.append(str(seq_record.id))\n",
    "        description.append(str(seq_record.description))\n",
    "        sequence.append(str(seq_record.seq))\n",
    "        lengths.append(len(seq_record.seq))"
   ]
  },
  {
   "cell_type": "code",
   "execution_count": 95,
   "metadata": {},
   "outputs": [
    {
     "data": {
      "text/html": [
       "<div>\n",
       "<style scoped>\n",
       "    .dataframe tbody tr th:only-of-type {\n",
       "        vertical-align: middle;\n",
       "    }\n",
       "\n",
       "    .dataframe tbody tr th {\n",
       "        vertical-align: top;\n",
       "    }\n",
       "\n",
       "    .dataframe thead th {\n",
       "        text-align: right;\n",
       "    }\n",
       "</style>\n",
       "<table border=\"1\" class=\"dataframe\">\n",
       "  <thead>\n",
       "    <tr style=\"text-align: right;\">\n",
       "      <th></th>\n",
       "      <th>Accession ID</th>\n",
       "      <th>Name</th>\n",
       "      <th>Sequence</th>\n",
       "      <th>Length</th>\n",
       "    </tr>\n",
       "  </thead>\n",
       "  <tbody>\n",
       "    <tr>\n",
       "      <th>0</th>\n",
       "      <td>FPAO01000001.1</td>\n",
       "      <td>FPAO01000001.1 Methanosarcina thermophila stra...</td>\n",
       "      <td>AAGGATTCCGGTAAAAGACCGGTTTGATAGAAACGGGATGTAAGCA...</td>\n",
       "      <td>518281</td>\n",
       "    </tr>\n",
       "    <tr>\n",
       "      <th>1</th>\n",
       "      <td>FPAO01000002.1</td>\n",
       "      <td>FPAO01000002.1 Methanosarcina thermophila stra...</td>\n",
       "      <td>CAGACTGAAAGCGAATGATTATCTTGAATTAATAGGACTTCAGAAT...</td>\n",
       "      <td>402334</td>\n",
       "    </tr>\n",
       "    <tr>\n",
       "      <th>2</th>\n",
       "      <td>FPAO01000003.1</td>\n",
       "      <td>FPAO01000003.1 Methanosarcina thermophila stra...</td>\n",
       "      <td>TGGAACCAGGAGTAATAGTAAAGCGAGAAACCCATATCAGGATGCA...</td>\n",
       "      <td>370502</td>\n",
       "    </tr>\n",
       "    <tr>\n",
       "      <th>3</th>\n",
       "      <td>FPAO01000004.1</td>\n",
       "      <td>FPAO01000004.1 Methanosarcina thermophila stra...</td>\n",
       "      <td>TGTGAAAGTTCCTTTACATCCACATTTCTTGCAGGCTCTGGGGAAC...</td>\n",
       "      <td>315083</td>\n",
       "    </tr>\n",
       "    <tr>\n",
       "      <th>4</th>\n",
       "      <td>FPAO01000005.1</td>\n",
       "      <td>FPAO01000005.1 Methanosarcina thermophila stra...</td>\n",
       "      <td>GGGCAGGTTATCCACGTGTTACTGAGCAGTACGCCATGTTCACGAA...</td>\n",
       "      <td>229870</td>\n",
       "    </tr>\n",
       "    <tr>\n",
       "      <th>5</th>\n",
       "      <td>FPAO01000006.1</td>\n",
       "      <td>FPAO01000006.1 Methanosarcina thermophila stra...</td>\n",
       "      <td>AACACTAATTATTACCCACTAATTAATTACTAATTAGTGGGATCCA...</td>\n",
       "      <td>200928</td>\n",
       "    </tr>\n",
       "    <tr>\n",
       "      <th>6</th>\n",
       "      <td>FPAO01000007.1</td>\n",
       "      <td>FPAO01000007.1 Methanosarcina thermophila stra...</td>\n",
       "      <td>ATTCGAGAGCAAGATCCATTAAAACAAGGATTGAAACCTGTCCTGC...</td>\n",
       "      <td>194248</td>\n",
       "    </tr>\n",
       "    <tr>\n",
       "      <th>7</th>\n",
       "      <td>FPAO01000008.1</td>\n",
       "      <td>FPAO01000008.1 Methanosarcina thermophila stra...</td>\n",
       "      <td>CAGCTCAAAGCAAAATCAACCCTGACTTCAAATCTGTCCTCAGGTG...</td>\n",
       "      <td>192318</td>\n",
       "    </tr>\n",
       "    <tr>\n",
       "      <th>8</th>\n",
       "      <td>FPAO01000009.1</td>\n",
       "      <td>FPAO01000009.1 Methanosarcina thermophila stra...</td>\n",
       "      <td>TAATTAGTGTTTGATAGCTACCACTATCAATGGATCCCACTAATTA...</td>\n",
       "      <td>178270</td>\n",
       "    </tr>\n",
       "    <tr>\n",
       "      <th>9</th>\n",
       "      <td>FPAO01000010.1</td>\n",
       "      <td>FPAO01000010.1 Methanosarcina thermophila stra...</td>\n",
       "      <td>TTATCCCCAGTTTCCCGGGGTTATCCCGGTCCCAAGGGCAGGTTAT...</td>\n",
       "      <td>122392</td>\n",
       "    </tr>\n",
       "  </tbody>\n",
       "</table>\n",
       "</div>"
      ],
      "text/plain": [
       "     Accession ID                                               Name  \\\n",
       "0  FPAO01000001.1  FPAO01000001.1 Methanosarcina thermophila stra...   \n",
       "1  FPAO01000002.1  FPAO01000002.1 Methanosarcina thermophila stra...   \n",
       "2  FPAO01000003.1  FPAO01000003.1 Methanosarcina thermophila stra...   \n",
       "3  FPAO01000004.1  FPAO01000004.1 Methanosarcina thermophila stra...   \n",
       "4  FPAO01000005.1  FPAO01000005.1 Methanosarcina thermophila stra...   \n",
       "5  FPAO01000006.1  FPAO01000006.1 Methanosarcina thermophila stra...   \n",
       "6  FPAO01000007.1  FPAO01000007.1 Methanosarcina thermophila stra...   \n",
       "7  FPAO01000008.1  FPAO01000008.1 Methanosarcina thermophila stra...   \n",
       "8  FPAO01000009.1  FPAO01000009.1 Methanosarcina thermophila stra...   \n",
       "9  FPAO01000010.1  FPAO01000010.1 Methanosarcina thermophila stra...   \n",
       "\n",
       "                                            Sequence  Length  \n",
       "0  AAGGATTCCGGTAAAAGACCGGTTTGATAGAAACGGGATGTAAGCA...  518281  \n",
       "1  CAGACTGAAAGCGAATGATTATCTTGAATTAATAGGACTTCAGAAT...  402334  \n",
       "2  TGGAACCAGGAGTAATAGTAAAGCGAGAAACCCATATCAGGATGCA...  370502  \n",
       "3  TGTGAAAGTTCCTTTACATCCACATTTCTTGCAGGCTCTGGGGAAC...  315083  \n",
       "4  GGGCAGGTTATCCACGTGTTACTGAGCAGTACGCCATGTTCACGAA...  229870  \n",
       "5  AACACTAATTATTACCCACTAATTAATTACTAATTAGTGGGATCCA...  200928  \n",
       "6  ATTCGAGAGCAAGATCCATTAAAACAAGGATTGAAACCTGTCCTGC...  194248  \n",
       "7  CAGCTCAAAGCAAAATCAACCCTGACTTCAAATCTGTCCTCAGGTG...  192318  \n",
       "8  TAATTAGTGTTTGATAGCTACCACTATCAATGGATCCCACTAATTA...  178270  \n",
       "9  TTATCCCCAGTTTCCCGGGGTTATCCCGGTCCCAAGGGCAGGTTAT...  122392  "
      ]
     },
     "execution_count": 95,
     "metadata": {},
     "output_type": "execute_result"
    }
   ],
   "source": [
    "\n",
    "df = pd.DataFrame({\n",
    "    'Accession ID': id,\n",
    "    'Name': description,\n",
    "    'Sequence': sequence,\n",
    "    'Length': lengths\n",
    "})\n",
    "\n",
    "df.head(10)"
   ]
  },
  {
   "cell_type": "code",
   "execution_count": 96,
   "metadata": {},
   "outputs": [],
   "source": [
    "df.to_csv(\"Gene Data.csv\", index=False)"
   ]
  }
 ],
 "metadata": {
  "kernelspec": {
   "display_name": "Python 3",
   "language": "python",
   "name": "python3"
  },
  "language_info": {
   "codemirror_mode": {
    "name": "ipython",
    "version": 3
   },
   "file_extension": ".py",
   "mimetype": "text/x-python",
   "name": "python",
   "nbconvert_exporter": "python",
   "pygments_lexer": "ipython3",
   "version": "3.10.12"
  }
 },
 "nbformat": 4,
 "nbformat_minor": 2
}
